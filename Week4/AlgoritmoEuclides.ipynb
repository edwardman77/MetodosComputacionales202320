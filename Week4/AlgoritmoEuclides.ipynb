{
 "cells": [
  {
   "cell_type": "code",
   "execution_count": 1,
   "id": "03032158",
   "metadata": {},
   "outputs": [],
   "source": [
    "import numpy as np"
   ]
  },
  {
   "cell_type": "code",
   "execution_count": 2,
   "id": "f28dfb99",
   "metadata": {},
   "outputs": [],
   "source": [
    "def MCD(a,b):\n",
    "    \n",
    "    a = np.abs(a)\n",
    "    b = np.abs(b)\n",
    "    \n",
    "    if b > a:\n",
    "        a,b = b,a\n",
    "        \n",
    "    while b:\n",
    "        print(a,b)\n",
    "        a,b = b, a%b\n",
    "        \n",
    "    return a"
   ]
  },
  {
   "cell_type": "code",
   "execution_count": 3,
   "id": "17fe112e",
   "metadata": {},
   "outputs": [
    {
     "name": "stdout",
     "output_type": "stream",
     "text": [
      "150 39\n",
      "39 33\n",
      "33 6\n",
      "6 3\n"
     ]
    },
    {
     "data": {
      "text/plain": [
       "3"
      ]
     },
     "execution_count": 3,
     "metadata": {},
     "output_type": "execute_result"
    }
   ],
   "source": [
    "MCD(150,39)"
   ]
  },
  {
   "cell_type": "code",
   "execution_count": null,
   "id": "19e4ffe2",
   "metadata": {},
   "outputs": [],
   "source": []
  }
 ],
 "metadata": {
  "kernelspec": {
   "display_name": "Python 3 (ipykernel)",
   "language": "python",
   "name": "python3"
  },
  "language_info": {
   "codemirror_mode": {
    "name": "ipython",
    "version": 3
   },
   "file_extension": ".py",
   "mimetype": "text/x-python",
   "name": "python",
   "nbconvert_exporter": "python",
   "pygments_lexer": "ipython3",
   "version": "3.9.12"
  }
 },
 "nbformat": 4,
 "nbformat_minor": 5
}
