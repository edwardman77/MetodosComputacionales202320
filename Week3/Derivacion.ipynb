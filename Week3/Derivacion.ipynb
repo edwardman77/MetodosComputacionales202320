{
 "cells": [
  {
   "cell_type": "code",
   "execution_count": 1,
   "id": "51c4e193",
   "metadata": {},
   "outputs": [],
   "source": [
    "import numpy as np\n",
    "import matplotlib.pyplot as plt"
   ]
  },
  {
   "cell_type": "code",
   "execution_count": 2,
   "id": "9097e6f2",
   "metadata": {},
   "outputs": [
    {
     "name": "stdout",
     "output_type": "stream",
     "text": [
      "1.1102230246251565e-16\n"
     ]
    }
   ],
   "source": [
    "epsilon = 1\n",
    "\n",
    "while 1 + epsilon != 1:\n",
    "    epsilon *= 0.5\n",
    "    \n",
    "print(epsilon)"
   ]
  },
  {
   "cell_type": "code",
   "execution_count": 3,
   "id": "61c69179",
   "metadata": {},
   "outputs": [],
   "source": [
    "def epsilon(x):\n",
    "    return np.sin(x) - (x- x**3/6.)"
   ]
  },
  {
   "cell_type": "code",
   "execution_count": 4,
   "id": "ba9f629a",
   "metadata": {},
   "outputs": [
    {
     "name": "stdout",
     "output_type": "stream",
     "text": [
      "29.021192005921073\n"
     ]
    }
   ],
   "source": [
    "x = 3*np.pi/4\n",
    "print(epsilon(x)/epsilon(x/2))"
   ]
  },
  {
   "cell_type": "code",
   "execution_count": 5,
   "id": "f0671566",
   "metadata": {},
   "outputs": [],
   "source": [
    "def Function(x):\n",
    "    return np.sin(x)"
   ]
  },
  {
   "cell_type": "code",
   "execution_count": 6,
   "id": "dee214e2",
   "metadata": {},
   "outputs": [],
   "source": [
    "def ExactDerivative(x):\n",
    "    return np.cos(x)"
   ]
  },
  {
   "cell_type": "code",
   "execution_count": null,
   "id": "182a055c",
   "metadata": {},
   "outputs": [],
   "source": []
  },
  {
   "cell_type": "code",
   "execution_count": 32,
   "id": "8fd7032c",
   "metadata": {},
   "outputs": [
    {
     "data": {
      "text/plain": [
       "0.3306939635357677"
      ]
     },
     "execution_count": 32,
     "metadata": {},
     "output_type": "execute_result"
    }
   ],
   "source": [
    "N = 20\n",
    "x = np.linspace(0,2*np.pi,N)\n",
    "h = x[1] - x[0]\n",
    "h"
   ]
  },
  {
   "cell_type": "code",
   "execution_count": 33,
   "id": "b930c21e",
   "metadata": {},
   "outputs": [],
   "source": [
    "EDerivative = ExactDerivative(x)"
   ]
  },
  {
   "cell_type": "code",
   "execution_count": 34,
   "id": "413a8042",
   "metadata": {},
   "outputs": [],
   "source": [
    "y = Function(x)"
   ]
  },
  {
   "cell_type": "code",
   "execution_count": 35,
   "id": "5451d1af",
   "metadata": {},
   "outputs": [
    {
     "data": {
      "text/plain": [
       "<matplotlib.collections.PathCollection at 0x7f4b79378fa0>"
      ]
     },
     "execution_count": 35,
     "metadata": {},
     "output_type": "execute_result"
    },
    {
     "data": {
      "image/png": "[encoded data removed]",
      "text/plain": [
       "<Figure size 432x288 with 1 Axes>"
      ]
     },
     "metadata": {
      "needs_background": "light"
     },
     "output_type": "display_data"
    }
   ],
   "source": [
    "plt.scatter(x,y)"
   ]
  },
  {
   "cell_type": "code",
   "execution_count": 36,
   "id": "d4c75ac7",
   "metadata": {},
   "outputs": [],
   "source": [
    "def DerivadaDerecha(f,x,h):\n",
    "    \n",
    "    d = 0.\n",
    "    \n",
    "    if h != 0:\n",
    "        d = (f(x+h) - f(x))/h\n",
    "        \n",
    "    return d"
   ]
  },
  {
   "cell_type": "code",
   "execution_count": 37,
   "id": "251d2033",
   "metadata": {},
   "outputs": [],
   "source": [
    "def DerivadaIzquierda(f,x,h):\n",
    "    \n",
    "    d = 0.\n",
    "    \n",
    "    if h != 0:\n",
    "        d = (f(x) - f(x-h))/h\n",
    "        \n",
    "    return d"
   ]
  },
  {
   "cell_type": "code",
   "execution_count": 42,
   "id": "0584d697",
   "metadata": {},
   "outputs": [],
   "source": [
    "def DerivadaCentral(f,x,h):\n",
    "    \n",
    "    d = 0.\n",
    "    \n",
    "    if h != 0:\n",
    "        d = (f(x+h) - f(x-h))/(2*h)\n",
    "        \n",
    "    return d"
   ]
  },
  {
   "cell_type": "code",
   "execution_count": 43,
   "id": "bd9aff08",
   "metadata": {},
   "outputs": [],
   "source": [
    "RDerivative = DerivadaDerecha(Function,x,h)\n",
    "LDerivative = DerivadaIzquierda(Function,x,h)\n",
    "CDerivative = DerivadaCentral(Function,x,h)"
   ]
  },
  {
   "cell_type": "code",
   "execution_count": 44,
   "id": "d7e71f19",
   "metadata": {},
   "outputs": [
    {
     "data": {
      "text/plain": [
       "<matplotlib.legend.Legend at 0x7f4b791b1460>"
      ]
     },
     "execution_count": 44,
     "metadata": {},
     "output_type": "execute_result"
    },
    {
     "data": {
      "image/png": "[encoded data removed]",
      "text/plain": [
       "<Figure size 432x288 with 1 Axes>"
      ]
     },
     "metadata": {
      "needs_background": "light"
     },
     "output_type": "display_data"
    }
   ],
   "source": [
    "plt.scatter(x,EDerivative,label='Exacta')\n",
    "plt.scatter(x,RDerivative,label='Derivada Derecha')\n",
    "plt.scatter(x,LDerivative,label='Derivada Izquierda')\n",
    "plt.scatter(x,CDerivative,label='Derivada Central')\n",
    "plt.legend()"
   ]
  },
  {
   "cell_type": "code",
   "execution_count": 45,
   "id": "85033b2a",
   "metadata": {},
   "outputs": [],
   "source": [
    "ErrorR = np.abs(EDerivative-RDerivative)\n",
    "ErrorI = np.abs(EDerivative-LDerivative)\n",
    "ErrorC = np.abs(EDerivative-CDerivative)"
   ]
  },
  {
   "cell_type": "code",
   "execution_count": 46,
   "id": "fd7753bc",
   "metadata": {},
   "outputs": [
    {
     "data": {
      "text/plain": [
       "<matplotlib.collections.PathCollection at 0x7f4b79161160>"
      ]
     },
     "execution_count": 46,
     "metadata": {},
     "output_type": "execute_result"
    },
    {
     "data": {
      "image/png": "[encoded data removed]",
      "text/plain": [
       "<Figure size 432x288 with 1 Axes>"
      ]
     },
     "metadata": {
      "needs_background": "light"
     },
     "output_type": "display_data"
    }
   ],
   "source": [
    "plt.scatter(x,ErrorR)\n",
    "plt.scatter(x,ErrorI)\n",
    "plt.scatter(x,ErrorC)"
   ]
  },
  {
   "cell_type": "code",
   "execution_count": 28,
   "id": "5cececa6",
   "metadata": {},
   "outputs": [
    {
     "data": {
      "text/plain": [
       "0.06346651825433926"
      ]
     },
     "execution_count": 28,
     "metadata": {},
     "output_type": "execute_result"
    }
   ],
   "source": [
    "h"
   ]
  },
  {
   "cell_type": "code",
   "execution_count": 50,
   "id": "a0f0b269",
   "metadata": {},
   "outputs": [
    {
     "data": {
      "text/plain": [
       "0.16478292359842434"
      ]
     },
     "execution_count": 50,
     "metadata": {},
     "output_type": "execute_result"
    }
   ],
   "source": [
    "np.max(ErrorR)\n"
   ]
  },
  {
   "cell_type": "code",
   "execution_count": 51,
   "id": "fe26d3f8",
   "metadata": {},
   "outputs": [
    {
     "data": {
      "text/plain": [
       "0.1647829235984242"
      ]
     },
     "execution_count": 51,
     "metadata": {},
     "output_type": "execute_result"
    }
   ],
   "source": [
    "np.max(ErrorI)"
   ]
  },
  {
   "cell_type": "code",
   "execution_count": 52,
   "id": "c2b3c5be",
   "metadata": {},
   "outputs": [
    {
     "data": {
      "text/plain": [
       "0.01812701467843958"
      ]
     },
     "execution_count": 52,
     "metadata": {},
     "output_type": "execute_result"
    }
   ],
   "source": [
    "np.max(ErrorC)"
   ]
  },
  {
   "cell_type": "code",
   "execution_count": null,
   "id": "ebf88cdc",
   "metadata": {},
   "outputs": [],
   "source": []
  }
 ],
 "metadata": {
  "kernelspec": {
   "display_name": "Python 3 (ipykernel)",
   "language": "python",
   "name": "python3"
  },
  "language_info": {
   "codemirror_mode": {
    "name": "ipython",
    "version": 3
   },
   "file_extension": ".py",
   "mimetype": "text/x-python",
   "name": "python",
   "nbconvert_exporter": "python",
   "pygments_lexer": "ipython3",
   "version": "3.9.12"
  }
 },
 "nbformat": 4,
 "nbformat_minor": 5
}
