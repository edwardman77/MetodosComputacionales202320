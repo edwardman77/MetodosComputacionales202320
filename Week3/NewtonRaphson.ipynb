{
 "cells": [
  {
   "cell_type": "code",
   "execution_count": 338,
   "id": "bcb94c43",
   "metadata": {},
   "outputs": [],
   "source": [
    "import numpy as np\n",
    "import matplotlib.pyplot as plt"
   ]
  },
  {
   "cell_type": "code",
   "execution_count": 339,
   "id": "d9986f98",
   "metadata": {},
   "outputs": [],
   "source": [
    "def Function(x):\n",
    "    #return 5*(1-np.exp(-x)) - x\n",
    "    return 0.5*(5*x**3 - 3*x)"
   ]
  },
  {
   "cell_type": "code",
   "execution_count": 340,
   "id": "defb2978",
   "metadata": {},
   "outputs": [],
   "source": [
    "x = np.linspace(-1,1,50)\n",
    "y = Function(x)"
   ]
  },
  {
   "cell_type": "code",
   "execution_count": 341,
   "id": "634a86f8",
   "metadata": {},
   "outputs": [
    {
     "data": {
      "text/plain": [
       "<matplotlib.lines.Line2D at 0x7f327dd25a60>"
      ]
     },
     "execution_count": 341,
     "metadata": {},
     "output_type": "execute_result"
    },
    {
     "data": {
      "image/png": "[encoded data removed]",
      "text/plain": [
       "<Figure size 432x288 with 1 Axes>"
      ]
     },
     "metadata": {
      "needs_background": "light"
     },
     "output_type": "display_data"
    }
   ],
   "source": [
    "plt.plot(x,y)\n",
    "plt.axhline(y = 0,color='r')"
   ]
  },
  {
   "cell_type": "code",
   "execution_count": 342,
   "id": "cc897471",
   "metadata": {},
   "outputs": [],
   "source": [
    "def Derivative(f,x,h=1e-6):\n",
    "    return (f(x+h)-f(x-h))/(2*h)"
   ]
  },
  {
   "cell_type": "code",
   "execution_count": 343,
   "id": "4175f40f",
   "metadata": {},
   "outputs": [],
   "source": [
    "def GetNewtonMethod(f,df,xn,itmax=100,precision=1e-8):\n",
    "    \n",
    "    error = 1.\n",
    "    it = 0\n",
    "    \n",
    "    while error > precision and it < itmax:\n",
    "        \n",
    "        try:\n",
    "            \n",
    "            xn1 = xn - f(xn)/df(f,xn)\n",
    "            # Criterio de parada\n",
    "            error = np.abs(f(xn)/df(f,xn))\n",
    "            \n",
    "        except ZeroDivisionError:\n",
    "            print('Division por cero')\n",
    "            \n",
    "        xn = xn1\n",
    "        it += 1\n",
    "        \n",
    "   # print('Raiz',xn,it)\n",
    "    \n",
    "    if it == itmax:\n",
    "        return Flase\n",
    "    else:\n",
    "        return xn"
   ]
  },
  {
   "cell_type": "code",
   "execution_count": 344,
   "id": "ea4e0762",
   "metadata": {},
   "outputs": [
    {
     "data": {
      "text/plain": [
       "0.7745966692414834"
      ]
     },
     "execution_count": 344,
     "metadata": {},
     "output_type": "execute_result"
    }
   ],
   "source": [
    "root = GetNewtonMethod(Function,Derivative,1.)\n",
    "root"
   ]
  },
  {
   "cell_type": "code",
   "execution_count": 345,
   "id": "1bed51cc",
   "metadata": {},
   "outputs": [],
   "source": [
    "def GetAllRoots(x, tolerancia=10):\n",
    "    \n",
    "    Roots = np.array([])\n",
    "    \n",
    "    for i in x:\n",
    "        \n",
    "        root = GetNewtonMethod(Function,Derivative,i)\n",
    "        \n",
    "        if root != False:\n",
    "            \n",
    "            croot = np.round(root, tolerancia)\n",
    "            \n",
    "            if croot not in Roots:\n",
    "                Roots = np.append(Roots,croot)\n",
    "                \n",
    "    Roots.sort()\n",
    "    \n",
    "    return Roots"
   ]
  },
  {
   "cell_type": "code",
   "execution_count": 346,
   "id": "deaf7bec",
   "metadata": {},
   "outputs": [],
   "source": [
    "x = np.linspace(-1.,1.,20)\n",
    "Roots = GetAllRoots(x)"
   ]
  },
  {
   "cell_type": "code",
   "execution_count": 347,
   "id": "6970ac45",
   "metadata": {},
   "outputs": [
    {
     "name": "stdout",
     "output_type": "stream",
     "text": [
      "-0.7745966692 0.7745966692414834\n"
     ]
    }
   ],
   "source": [
    "# Comparando con el valor exacto, mantiza de 10 cifras\n",
    "print(Roots[0],np.sqrt(3/5))"
   ]
  },
  {
   "cell_type": "markdown",
   "id": "b637e571",
   "metadata": {},
   "source": [
    "# Comportamiento del algoritmo sin atractores\n",
    "\n",
    "## Dado que la sucesión no converge, se establece un número definido de iteraciones para cada trayectoria"
   ]
  },
  {
   "cell_type": "code",
   "execution_count": 348,
   "id": "6bda023c",
   "metadata": {},
   "outputs": [],
   "source": [
    "def GetNewtonMethod1(f,df,xn,N=20): # Numero de terminos de la sucesión\n",
    "    \n",
    "    S = np.zeros(N)\n",
    "    S[0] = xn\n",
    "    \n",
    "    for i in range(1,N):\n",
    "        S[i] = S[i-1] - f(S[i-1])/df( f, S[i-1] )\n",
    "    \n",
    "    return S"
   ]
  },
  {
   "cell_type": "code",
   "execution_count": 367,
   "id": "f42d75d8",
   "metadata": {},
   "outputs": [],
   "source": [
    "def TestF(x):\n",
    "    return x**2 + 9"
   ]
  },
  {
   "cell_type": "code",
   "execution_count": 381,
   "id": "8a4020c0",
   "metadata": {},
   "outputs": [],
   "source": [
    "Ns = 10 # Numero puntos de inicio de la sucesión\n",
    "Nc = 50 # Numero de iteraciones del método\n",
    "\n",
    "Sources = np.linspace(10.,10.5,Ns)\n",
    "Secuencias = np.zeros((Nc,Ns))\n",
    "\n",
    "for i in range(Ns):\n",
    "    Secuencias[:,i] =  GetNewtonMethod1(TestF,Derivative,Sources[i],Nc)"
   ]
  },
  {
   "cell_type": "code",
   "execution_count": 382,
   "id": "8751990c",
   "metadata": {},
   "outputs": [
    {
     "data": {
      "text/plain": [
       "array([ 1.00555556e+01,  4.58026396e+00,  1.30765585e+00, -2.78744447e+00,\n",
       "        2.20659695e-01, -2.02830637e+01, -9.91967189e+00, -4.50619190e+00,\n",
       "       -1.25447004e+00,  2.95993714e+00, -4.03339827e-02,  1.11548284e+02,\n",
       "        5.57338008e+01,  2.77861594e+01,  1.37311286e+01,  6.53784176e+00,\n",
       "        2.58062034e+00, -4.53456600e-01,  9.69704389e+00,  4.38446299e+00,\n",
       "        1.16588003e+00, -3.27680530e+00, -2.65113852e-01,  1.68412827e+01,\n",
       "        8.15344079e+00,  3.52480616e+00,  4.85737134e-01, -9.02140152e+00,\n",
       "       -4.01188691e+00, -8.84276741e-01,  4.64676625e+00,  1.35496773e+00,\n",
       "       -2.64362845e+00,  3.80391699e-01, -1.16397153e+01, -5.43325025e+00,\n",
       "       -1.88839160e+00,  1.43878451e+00, -2.40824775e+00,  6.64454632e-01,\n",
       "       -6.44024410e+00, -2.52139077e+00,  5.24033920e-01, -8.32521341e+00,\n",
       "       -3.62208002e+00, -5.68659949e-01,  7.62901088e+00,  3.22465178e+00,\n",
       "        2.16826369e-01, -2.06455202e+01])"
      ]
     },
     "execution_count": 382,
     "metadata": {},
     "output_type": "execute_result"
    }
   ],
   "source": [
    "Secuencias[:,1]"
   ]
  },
  {
   "cell_type": "code",
   "execution_count": 383,
   "id": "66683f25",
   "metadata": {},
   "outputs": [
    {
     "data": {
      "image/png": "[encoded data removed]",
      "text/plain": [
       "<Figure size 432x288 with 1 Axes>"
      ]
     },
     "metadata": {
      "needs_background": "light"
     },
     "output_type": "display_data"
    }
   ],
   "source": [
    "plt.plot(Secuencias,'.-')\n",
    "plt.xlabel('N',fontsize=15)\n",
    "plt.ylabel('Seed',fontsize=15)\n",
    "plt.show()"
   ]
  },
  {
   "cell_type": "code",
   "execution_count": 384,
   "id": "b5a41649",
   "metadata": {},
   "outputs": [
    {
     "data": {
      "text/plain": [
       "Text(0, 0.5, 'Root')"
      ]
     },
     "execution_count": 384,
     "metadata": {},
     "output_type": "execute_result"
    },
    {
     "data": {
      "image/png": "[encoded data removed]",
      "text/plain": [
       "<Figure size 432x288 with 1 Axes>"
      ]
     },
     "metadata": {
      "needs_background": "light"
     },
     "output_type": "display_data"
    }
   ],
   "source": [
    "# Luego de N iteraciones cada secuencia llega a un lugar diferente\n",
    "plt.scatter(Sources,Secuencias[-1,:],color='k',marker='o')\n",
    "plt.xlabel('Seed', fontsize=15)\n",
    "plt.ylabel('Root', fontsize=15)"
   ]
  },
  {
   "cell_type": "code",
   "execution_count": null,
   "id": "77d5119d",
   "metadata": {},
   "outputs": [],
   "source": []
  },
  {
   "cell_type": "code",
   "execution_count": null,
   "id": "96841f1c",
   "metadata": {},
   "outputs": [],
   "source": []
  },
  {
   "cell_type": "code",
   "execution_count": null,
   "id": "57232924",
   "metadata": {},
   "outputs": [],
   "source": []
  }
 ],
 "metadata": {
  "kernelspec": {
   "display_name": "Python 3 (ipykernel)",
   "language": "python",
   "name": "python3"
  },
  "language_info": {
   "codemirror_mode": {
    "name": "ipython",
    "version": 3
   },
   "file_extension": ".py",
   "mimetype": "text/x-python",
   "name": "python",
   "nbconvert_exporter": "python",
   "pygments_lexer": "ipython3",
   "version": "3.9.12"
  }
 },
 "nbformat": 4,
 "nbformat_minor": 5
}
